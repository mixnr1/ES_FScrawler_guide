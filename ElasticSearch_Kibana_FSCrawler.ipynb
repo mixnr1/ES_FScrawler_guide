{
 "cells": [
  {
   "cell_type": "markdown",
   "metadata": {},
   "source": [
    "# ElasticSearch, Kibana and FSCrawler\n",
    "- Elasticsearch is a full text search engine built on Lucene\n",
    "- Kibana is the interface to the data in Elasticsearch\n",
    "- FSCrawler helps to index binary documents such as PDF, Open Office, MS Office."
   ]
  },
  {
   "cell_type": "markdown",
   "metadata": {},
   "source": [
    "## ElasticSearch use cases\n",
    "- security/log analytics\n",
    "- marketing\n",
    "- operations\n",
    "- search\n",
    "![title](img/es.png)"
   ]
  },
  {
   "cell_type": "markdown",
   "metadata": {},
   "source": [
    "## What is a document and indice?\n",
    "Documents:\n",
    "    - Documents are the data\n",
    "    - Documents have attributes\n",
    "    - Attributes have values\n",
    "    - Attributes have types\n",
    "Incides:\n",
    "    - Documents are grouped in a index\n",
    "    - Elasticsearch can hame multiple indices\n",
    "    - Depending on data, can name indices appropriately"
   ]
  },
  {
   "cell_type": "markdown",
   "metadata": {},
   "source": [
    "## What is mapping?\n",
    "- Predefined document types, applied to an index\n",
    "- Don't make ElasticSearch guess on how to treat data, becouse it will:\n",
    "    - which string fields should be trreated as full text fields\n",
    "    - which fields contain numbers, dates, ar geolocations\n",
    "    - Whether all fields values in the document should be indexed in _all field\n",
    "    - the format af date values"
   ]
  },
  {
   "cell_type": "markdown",
   "metadata": {},
   "source": [
    "## Data Types\n",
    "![title](img/es_data_types.png)\n",
    "\n",
    "- Core Data Types:\n",
    "    - text, keyword\n",
    "    - long, integer, short, byte, double, float, half_float, scaled_float\n",
    "    - date\n",
    "    - boolean\n",
    "    - binary\n",
    "    - integer_range, float_range, long_range, double_range, date_range\n",
    "- Complex Data Types:\n",
    "    - Array\n",
    "    - Object\n",
    "    - Nested objects\n",
    "- Geo Data Types:\n",
    "    - Geo-Point\n",
    "    - Geo-Shape\n",
    "- Specialized Data Types:\n",
    "    - IP (IPv4 IPv6)\n",
    "    - Completion\n",
    "    - Token count\n",
    "    - Mapper-murmur3\n",
    "    - Percolator\n",
    "    - join"
   ]
  },
  {
   "cell_type": "markdown",
   "metadata": {},
   "source": [
    "## What is a shard and replica?\n",
    "The index, in order to be scalable, has to be distributed, and it does this using shards and replicas.\n",
    "\n",
    "Now a replica is a segment of an index, and a shard is a portion of that index. Because of its nature, a replica can never be located on the same node as the primary shard that it's a backup for.\n",
    "\n",
    "The default when creating an index is to have five shards and one replica, that would equal five primary shards and five replica shards distributed across two different nodes.\n",
    "![title](img/es_shards_replicas.png)"
   ]
  },
  {
   "cell_type": "markdown",
   "metadata": {},
   "source": [
    "## First Steps with ElasticSearch and Kibana\n",
    "ElasticSearch:\n",
    "- Download and unzip Elasticsearch\n",
    "- Install ElasticSearch\n",
    "\n",
    "Kibana:\n",
    "- Download and unzip Kibana\n",
    "- Install and configure Kibana to connect to ElasticSearch"
   ]
  },
  {
   "cell_type": "markdown",
   "metadata": {},
   "source": [
    "### Download and unzip Elasticsearch (latest version - 6.4.0)\n",
    "![title](img/Elasticsearch-Logo-Color-H.png)\n",
    "https://artifacts.elastic.co/downloads/elasticsearch/elasticsearch-6.4.0.tar.gz"
   ]
  },
  {
   "cell_type": "markdown",
   "metadata": {},
   "source": [
    "### Install ElasticSearch (more info - https://www.elastic.co/downloads/elasticsearch)\n",
    "/bin/elasticsearch"
   ]
  },
  {
   "cell_type": "markdown",
   "metadata": {},
   "source": [
    "### Test ElasticSearch with browser\n",
    "http://localhost:9200/"
   ]
  },
  {
   "cell_type": "markdown",
   "metadata": {},
   "source": [
    "### Download and unzip Kibana (latest version - 6.4.0)\n",
    "![title](img/Kibana-Logo-Color-H.png)\n",
    "https://artifacts.elastic.co/downloads/kibana/kibana-6.4.0-linux-x86_64.tar.gz"
   ]
  },
  {
   "cell_type": "markdown",
   "metadata": {},
   "source": [
    "### Install and configure Kibana to connect to Elasticsearch (more info - https://www.elastic.co/downloads/kibana)\n",
    "sudo nano /config/kibana.yml\n",
    "\n",
    "elasticsearch.url: \"http://localhost:9200\"\n",
    "\n",
    "/bin/kibana"
   ]
  },
  {
   "cell_type": "markdown",
   "metadata": {},
   "source": [
    "### Test Kibana with browser\n",
    "http://localhost:5601"
   ]
  },
  {
   "cell_type": "markdown",
   "metadata": {},
   "source": [
    "# Load some data\n",
    "- To load data We will use fscrawler\n",
    "- Download fscrawler and unzip fscrawler\n",
    "- Start fscrawler to create a job\n",
    "- Configure fscrawler _setting.json file\n",
    "- Start fscawler to run a job"
   ]
  },
  {
   "cell_type": "markdown",
   "metadata": {},
   "source": [
    "### Download fscrawler and unzip fscrawler (latest stable verison - 2.5.0)\n",
    "https://repo1.maven.org/maven2/fr/pilato/elasticsearch/crawler/fscrawler/2.5/"
   ]
  },
  {
   "cell_type": "markdown",
   "metadata": {},
   "source": [
    "### fscrawler documention\n",
    "https://fscrawler.readthedocs.io/en/fscrawler-2.5\n",
    "\n",
    "NOTE: FS Crawler 2.5 is using Tika 1.18 and Elasticsearch Rest Client 6.3.2."
   ]
  },
  {
   "cell_type": "markdown",
   "metadata": {},
   "source": [
    "### Start fscrawler\n",
    "bin/fscrawler <job_name>"
   ]
  },
  {
   "cell_type": "markdown",
   "metadata": {},
   "source": [
    "### Configure fscrawler _setting.json file\n",
    "nano /path/to/.fscrawler/<job_name>/_settings.json"
   ]
  },
  {
   "cell_type": "code",
   "execution_count": null,
   "metadata": {},
   "outputs": [],
   "source": [
    "{\n",
    "  \"name\" : \"<job_name>\",\n",
    "  \"fs\" : {\n",
    "    \"url\" : \"<path/to/your/directory>\",\n",
    "    \"update_rate\" : \"15m\",\n",
    "    \"excludes\" : [ \"*/~*\" ],\n",
    "    \"json_support\" : false,\n",
    "    \"filename_as_id\" : false,\n",
    "    \"add_filesize\" : true,\n",
    "    \"remove_deleted\" : true,\n",
    "    \"add_as_inner_object\" : false,\n",
    "    \"store_source\" : false,\n",
    "    \"index_content\" : true,\n",
    "    \"indexed_chars\" : \"100%\",\n",
    "    \"attributes_support\" : false,\n",
    "    \"raw_metadata\" : true,\n",
    "    \"xml_support\" : false,\n",
    "    \"index_folders\" : true,\n",
    "    \"lang_detect\" : false,\n",
    "    \"continue_on_error\" : false,\n",
    "    \"pdf_ocr\" : true,\n",
    "    \"ocr\" : {\n",
    "      \"language\" : \"eng\"\n",
    "    }\n",
    "  },\n",
    "  \"elasticsearch\" : {\n",
    "    \"nodes\" : [ {\n",
    "      \"host\" : \"127.0.0.1\",\n",
    "      \"port\" : 9200,\n",
    "      \"scheme\" : \"HTTP\"\n",
    "    } ],\n",
    "    \"bulk_size\" : 100,\n",
    "    \"flush_interval\" : \"5s\",\n",
    "    \"byte_size\" : \"10mb\"\n",
    "  },\n",
    "  \"rest\" : {\n",
    "    \"scheme\" : \"HTTP\",\n",
    "    \"host\" : \"127.0.0.1\",\n",
    "    \"port\" : 8080,\n",
    "    \"endpoint\" : \"fscrawler\"\n",
    "  }\n",
    "}\n"
   ]
  },
  {
   "cell_type": "markdown",
   "metadata": {},
   "source": [
    "### Start fscawler job\n",
    "\n",
    "path/to/fscrawler_directory>//bin/fscrawler <job_name>"
   ]
  },
  {
   "cell_type": "markdown",
   "metadata": {},
   "source": [
    "### Restart fscrawler job (if necessary)\n",
    "\n",
    "<path/to/fscrawler_directory>/bin/fscrawler <job_name> --loop 1 --restart #loop is optional"
   ]
  }
 ],
 "metadata": {
  "celltoolbar": "Slideshow",
  "kernelspec": {
   "display_name": "Python 3",
   "language": "python",
   "name": "python3"
  },
  "language_info": {
   "codemirror_mode": {
    "name": "ipython",
    "version": 3
   },
   "file_extension": ".py",
   "mimetype": "text/x-python",
   "name": "python",
   "nbconvert_exporter": "python",
   "pygments_lexer": "ipython3",
   "version": "3.6.5"
  }
 },
 "nbformat": 4,
 "nbformat_minor": 2
}
