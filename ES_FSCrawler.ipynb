{
 "cells": [
  {
   "cell_type": "markdown",
   "metadata": {},
   "source": [
    "# Update software\n",
    "sudo apt-get update && sudo apt-get upgrade"
   ]
  },
  {
   "cell_type": "markdown",
   "metadata": {},
   "source": [
    "# Verify JAVA version and path"
   ]
  },
  {
   "cell_type": "code",
   "execution_count": 2,
   "metadata": {},
   "outputs": [
    {
     "name": "stdout",
     "output_type": "stream",
     "text": [
      "openjdk version \"1.8.0_181\"\r\n",
      "OpenJDK Runtime Environment (build 1.8.0_181-8u181-b13-0ubuntu0.16.04.1-b13)\r\n",
      "OpenJDK 64-Bit Server VM (build 25.181-b13, mixed mode)\r\n"
     ]
    }
   ],
   "source": [
    "!java -version"
   ]
  },
  {
   "cell_type": "code",
   "execution_count": 3,
   "metadata": {},
   "outputs": [
    {
     "name": "stdout",
     "output_type": "stream",
     "text": [
      "/usr/bin/java\r\n"
     ]
    }
   ],
   "source": [
    "!which java"
   ]
  },
  {
   "cell_type": "code",
   "execution_count": 4,
   "metadata": {},
   "outputs": [
    {
     "name": "stdout",
     "output_type": "stream",
     "text": [
      "java: /usr/bin/java /usr/share/java /usr/share/man/man1/java.1.gz\r\n"
     ]
    }
   ],
   "source": [
    "!whereis java"
   ]
  },
  {
   "cell_type": "code",
   "execution_count": 5,
   "metadata": {},
   "outputs": [
    {
     "name": "stdout",
     "output_type": "stream",
     "text": [
      "lrwxrwxrwx 1 root root 22 May  6 13:30 /usr/bin/java -> /etc/alternatives/java\r\n"
     ]
    }
   ],
   "source": [
    "!ls -l /usr/bin/java"
   ]
  },
  {
   "cell_type": "code",
   "execution_count": 6,
   "metadata": {},
   "outputs": [
    {
     "name": "stdout",
     "output_type": "stream",
     "text": [
      "lrwxrwxrwx 1 root root 46 May  6 13:30 /etc/alternatives/java -> /usr/lib/jvm/java-8-openjdk-amd64/jre/bin/java\r\n"
     ]
    }
   ],
   "source": [
    "!ls -l /etc/alternatives/java"
   ]
  },
  {
   "cell_type": "code",
   "execution_count": 7,
   "metadata": {},
   "outputs": [
    {
     "name": "stdout",
     "output_type": "stream",
     "text": [
      "/usr/lib/jvm/java-8-openjdk-amd64/jre/bin/java\r\n"
     ]
    }
   ],
   "source": [
    "!readlink -f $(which java)"
   ]
  },
  {
   "attachments": {},
   "cell_type": "markdown",
   "metadata": {},
   "source": [
    "# Download and unzip Elasticsearch (latest version - 6.4.0)\n",
    "![title](img/Elasticsearch-Logo-Color-H.png)\n",
    "https://artifacts.elastic.co/downloads/elasticsearch/elasticsearch-6.4.0.tar.gz"
   ]
  },
  {
   "cell_type": "markdown",
   "metadata": {},
   "source": [
    "# What is a shard and replica?\n",
    "The index, in order to be scalable, has to be distributed, and it does this using shards and replicas.\n",
    "\n",
    "Now a replica is a segment of an index, and a shard is a portion of that index. Because of its nature, a replica can never be located on the same node as the primary shard that it's a backup for.\n",
    "\n",
    "The default when creating an index is to have five shards and one replica, that would equal five primary shards and five replica shards distributed across two different nodes."
   ]
  },
  {
   "cell_type": "markdown",
   "metadata": {},
   "source": [
    "# Install ElasticSearch (more info - https://www.elastic.co/downloads/elasticsearch)\n",
    "/bin/elasticsearch"
   ]
  },
  {
   "cell_type": "markdown",
   "metadata": {},
   "source": [
    "# Test ElasticSearch with browser\n",
    "http://localhost:9200/"
   ]
  },
  {
   "cell_type": "code",
   "execution_count": 4,
   "metadata": {},
   "outputs": [
    {
     "name": "stdout",
     "output_type": "stream",
     "text": [
      "{\r\n",
      "  \"name\" : \"lrIoE1z\",\r\n",
      "  \"cluster_name\" : \"elasticsearch\",\r\n",
      "  \"cluster_uuid\" : \"wx1ep1OaSpK_1dOyb9rGrQ\",\r\n",
      "  \"version\" : {\r\n",
      "    \"number\" : \"6.4.0\",\r\n",
      "    \"build_flavor\" : \"default\",\r\n",
      "    \"build_type\" : \"tar\",\r\n",
      "    \"build_hash\" : \"595516e\",\r\n",
      "    \"build_date\" : \"2018-08-17T23:18:47.308994Z\",\r\n",
      "    \"build_snapshot\" : false,\r\n",
      "    \"lucene_version\" : \"7.4.0\",\r\n",
      "    \"minimum_wire_compatibility_version\" : \"5.6.0\",\r\n",
      "    \"minimum_index_compatibility_version\" : \"5.0.0\"\r\n",
      "  },\r\n",
      "  \"tagline\" : \"You Know, for Search\"\r\n",
      "}\r\n"
     ]
    }
   ],
   "source": [
    "!curl -XGET http://127.0.0.1:9200"
   ]
  },
  {
   "cell_type": "code",
   "execution_count": null,
   "metadata": {},
   "outputs": [],
   "source": [
    "#This is not required if fscrawler is used\n",
    "\n",
    "# Install ingest-attachment (more info - https://www.elastic.co/guide/en/elasticsearch/plugins/master/ingest-attachment.html)\n",
    "\n",
    "#Note: Ingest Attachment converts binary documents like Powerpoints, Excel Spreadsheets, and PDF documents to text and metadata\n",
    "\n",
    "#./bin/elasticsearch-plugin install ingest-attachment\n",
    "\n",
    "#NOTE: Extracting contents from binary data is a resource intensive operation and consumes a lot of resources. It is highly recommended to run pipelines using this processor in a dedicated ingest node."
   ]
  },
  {
   "cell_type": "markdown",
   "metadata": {},
   "source": [
    "# Install python-client for ElasticSearch (more info - https://www.elastic.co/guide/en/elasticsearch/client/python-api/current/index.html)\n",
    "\n",
    "Python Elasticsearch client documention - https://elasticsearch-py.readthedocs.io/en/master/\n"
   ]
  },
  {
   "cell_type": "code",
   "execution_count": 1,
   "metadata": {},
   "outputs": [
    {
     "name": "stdout",
     "output_type": "stream",
     "text": [
      "Collecting elasticsearch\n",
      "\u001b[?25l  Downloading https://files.pythonhosted.org/packages/b1/f1/89735ebb863767516d55cee2cfdd5e2883ff1db903be3ba1fe15a1725adc/elasticsearch-6.3.1-py2.py3-none-any.whl (119kB)\n",
      "\u001b[K    100% |████████████████████████████████| 122kB 3.0MB/s ta 0:00:01\n",
      "\u001b[?25hRequirement already satisfied: urllib3>=1.21.1 in /home/mix/anaconda3/lib/python3.6/site-packages (from elasticsearch) (1.22)\n",
      "\u001b[31mdistributed 1.21.8 requires msgpack, which is not installed.\u001b[0m\n",
      "Installing collected packages: elasticsearch\n",
      "Successfully installed elasticsearch-6.3.1\n",
      "\u001b[33mYou are using pip version 10.0.1, however version 18.0 is available.\n",
      "You should consider upgrading via the 'pip install --upgrade pip' command.\u001b[0m\n"
     ]
    }
   ],
   "source": [
    "!pip install elasticsearch"
   ]
  },
  {
   "cell_type": "markdown",
   "metadata": {},
   "source": [
    "# Test python-client for ElasticSearch\n"
   ]
  },
  {
   "cell_type": "code",
   "execution_count": 3,
   "metadata": {},
   "outputs": [],
   "source": [
    "from datetime import datetime\n",
    "from elasticsearch import Elasticsearch"
   ]
  },
  {
   "cell_type": "code",
   "execution_count": 4,
   "metadata": {},
   "outputs": [
    {
     "data": {
      "text/plain": [
       "{'any': 'data', 'timestamp': '2018-09-12T14:55:24.014373'}"
      ]
     },
     "execution_count": 4,
     "metadata": {},
     "output_type": "execute_result"
    }
   ],
   "source": [
    "# by default we connect to localhost:9200\n",
    "es = Elasticsearch()\n",
    "\n",
    "# datetimes will be serialized\n",
    "es.index(index=\"my-index\", doc_type=\"test-type\", id=42, body={\"any\": \"data\", \"timestamp\": datetime.now()})\n",
    "{u'_id': u'42', u'_index': u'my-index', u'_type': u'test-type', u'_version': 1, u'ok': True}\n",
    "\n",
    "# but not deserialized\n",
    "es.get(index=\"my-index\", doc_type=\"test-type\", id=42)['_source']"
   ]
  },
  {
   "cell_type": "code",
   "execution_count": 19,
   "metadata": {},
   "outputs": [
    {
     "data": {
      "text/plain": [
       "{'_index': 'test_crawler',\n",
       " '_type': '_doc',\n",
       " '_id': 'JEGqzWUBT8wfQ_ukOz5s',\n",
       " '_version': 1,\n",
       " 'result': 'created',\n",
       " '_shards': {'total': 2, 'successful': 1, 'failed': 0},\n",
       " '_seq_no': 0,\n",
       " '_primary_term': 4}"
      ]
     },
     "execution_count": 19,
     "metadata": {},
     "output_type": "execute_result"
    }
   ],
   "source": [
    "es = Elasticsearch()\n",
    "es.index(index=\"test_crawler\", doc_type=\"_doc\", body={\"data\":\"any\"})"
   ]
  },
  {
   "cell_type": "markdown",
   "metadata": {},
   "source": [
    "# Download fscrawler and unzip fscrawler (latest stable verison - 2.5.0)\n",
    "https://repo1.maven.org/maven2/fr/pilato/elasticsearch/crawler/fscrawler/2.5/"
   ]
  },
  {
   "cell_type": "markdown",
   "metadata": {},
   "source": [
    "# fscrawler documention\n",
    "https://fscrawler.readthedocs.io/en/fscrawler-2.5\n",
    "NOTE: FS Crawler 2.5 is using Tika 1.18 and Elasticsearch Rest Client 6.3.2."
   ]
  },
  {
   "cell_type": "markdown",
   "metadata": {},
   "source": [
    "# Configure JAVA_HOME to point to your Java installation directory\n",
    "NOTE: https://askubuntu.com/questions/175514/how-to-set-java-home-for-java\n",
    "\n",
    "sudo -s\n",
    "\n",
    "nano /etc/environment\n",
    "\n",
    "JAVA_HOME=\"/usr/lib/jvm/java-8-openjdk-amd64/jre/bin/java\"\n",
    "\n",
    "source /etc/environment\n",
    "\n",
    "echo $JAVA_HOME"
   ]
  },
  {
   "cell_type": "markdown",
   "metadata": {},
   "source": [
    "# Start fscrawler\n",
    "bin/fscrawler <job_name>"
   ]
  },
  {
   "cell_type": "markdown",
   "metadata": {},
   "source": [
    "# Create test directory with some files\n",
    "mkdir /tmp/es"
   ]
  },
  {
   "cell_type": "markdown",
   "metadata": {},
   "source": [
    "# Configure fscrawler _setting.json file\n",
    "nano /path/to/.fscrawler/<job_name>/_settings.json"
   ]
  },
  {
   "cell_type": "code",
   "execution_count": null,
   "metadata": {},
   "outputs": [],
   "source": [
    "{\n",
    "  \"name\" : \"<job_name>\",\n",
    "  \"fs\" : {\n",
    "    \"url\" : \"<path/to/your/directory>\",\n",
    "    \"update_rate\" : \"1m\",\n",
    "    \"includes\" : [ \".pdf\", \".doc\", \".ods\", \".txt\" ],\n",
    "    \"excludes\" : [ \"*/~*\" ],\n",
    "    \"json_support\" : false,\n",
    "    \"filename_as_id\" : true,\n",
    "    \"add_filesize\" : true,\n",
    "    \"remove_deleted\" : true,\n",
    "    \"add_as_inner_object\" : false,\n",
    "    \"store_source\" : true,\n",
    "    \"index_content\" : true,\n",
    "    \"indexed_chars\" : \"100%\",\n",
    "    \"attributes_support\" : false,\n",
    "    \"raw_metadata\" : true,\n",
    "    \"xml_support\" : false,\n",
    "    \"index_folders\" : true,\n",
    "    \"lang_detect\" : false,\n",
    "    \"continue_on_error\" : false,\n",
    "    \"pdf_ocr\" : true,\n",
    "    \"ocr\" : {\n",
    "      \"language\" : \"eng\"\n",
    "    }\n",
    "  },\n",
    "  \"elasticsearch\" : {\n",
    "    \"index\" : \"docs\",\n",
    "    \"index_folder\" : \"folders\",\n",
    "    \"nodes\" : [ {\n",
    "      \"host\" : \"127.0.0.1\",\n",
    "      \"port\" : 9200,\n",
    "      \"scheme\" : \"HTTP\"\n",
    "    } ],\n",
    "    \"bulk_size\" : 100,\n",
    "    \"flush_interval\" : \"5s\",\n",
    "    \"byte_size\" : \"10mb\"\n",
    "  },\n",
    "  \"rest\" : {\n",
    "    \"scheme\" : \"HTTP\",\n",
    "    \"host\" : \"127.0.0.1\",\n",
    "    \"port\" : 8080,\n",
    "    \"endpoint\" : \"fscrawler\"\n",
    "  }\n",
    "}\n"
   ]
  },
  {
   "cell_type": "code",
   "execution_count": null,
   "metadata": {},
   "outputs": [],
   "source": [
    "{\n",
    "  \"name\" : \"new_job\",\n",
    "  \"fs\" : {\n",
    "    \"url\" : \"/tmp/es\",\n",
    "    \"update_rate\" : \"1m\",\n",
    "    \"includes\" : [ \".pdf\", \".doc\", \".ods\", \".txt\" ],\n",
    "    \"excludes\" : [ \"*/~*\" ],\n",
    "    \"json_support\" : true,\n",
    "    \"filename_as_id\" : true,\n",
    "    \"add_filesize\" : true,\n",
    "    \"remove_deleted\" : true,\n",
    "    \"add_as_inner_object\" : false,\n",
    "    \"store_source\" : true,\n",
    "    \"index_content\" : true,\n",
    "    \"indexed_chars\" : \"100%\",\n",
    "    \"attributes_support\" : false,\n",
    "    \"raw_metadata\" : true,\n",
    "    \"xml_support\" : false,\n",
    "    \"index_folders\" : true,\n",
    "    \"lang_detect\" : false,\n",
    "    \"continue_on_error\" : false,\n",
    "    \"pdf_ocr\" : true,\n",
    "    \"ocr\" : {\n",
    "      \"language\" : \"eng\"\n",
    "    }\n",
    "  },\n",
    "  \"elasticsearch\" : {\n",
    "    \"nodes\" : [ {\n",
    "      \"host\" : \"127.0.0.1\",\n",
    "      \"port\" : 9200,\n",
    "      \"scheme\" : \"HTTP\"\n",
    "    } ],\n",
    "    \"bulk_size\" : 100,\n",
    "    \"flush_interval\" : \"5s\",\n",
    "    \"byte_size\" : \"10mb\"\n",
    "  },\n",
    "  \"rest\" : {\n",
    "    \"scheme\" : \"HTTP\",\n",
    "    \"host\" : \"127.0.0.1\",\n",
    "    \"port\" : 8080,\n",
    "    \"endpoint\" : \"fscrawler\"\n",
    "  }\n",
    "}\n"
   ]
  },
  {
   "cell_type": "markdown",
   "metadata": {},
   "source": [
    "# Start fscawler job\n",
    "\n",
    "path/to/fscrawler_directory>//bin/fscrawler <job_name>"
   ]
  },
  {
   "cell_type": "markdown",
   "metadata": {},
   "source": [
    "# Restart fscrawler job (if necessary)\n",
    "\n",
    "<path/to/fscrawler_directory>/bin/fscrawler <job_name> --loop 1 --restart #loop is optional"
   ]
  },
  {
   "attachments": {},
   "cell_type": "markdown",
   "metadata": {},
   "source": [
    "# Check ElasticSearch \n",
    "![title](img/Screenshot_from_2018-09-13_13-40-49.png)\n",
    "\n"
   ]
  },
  {
   "attachments": {},
   "cell_type": "markdown",
   "metadata": {},
   "source": [
    "# Download and unzip Kibana (latest version - 6.4.0)\n",
    "![title](img/Kibana-Logo-Color-H.png)\n",
    "https://artifacts.elastic.co/downloads/kibana/kibana-6.4.0-linux-x86_64.tar.gz"
   ]
  },
  {
   "cell_type": "markdown",
   "metadata": {},
   "source": [
    "# Install Kibana (more info - https://www.elastic.co/downloads/kibana)\n",
    "sudo nano /config/kibana.yml\n",
    "\n",
    "elasticsearch.url: \"http://localhost:9200\"\n",
    "\n",
    "/bin/kibana"
   ]
  },
  {
   "cell_type": "markdown",
   "metadata": {},
   "source": [
    "# Test Kibana with browser\n",
    "http://localhost:5601"
   ]
  },
  {
   "attachments": {},
   "cell_type": "markdown",
   "metadata": {},
   "source": [
    "# Check Kibana dashboard\n",
    "![title](img/Screenshot_from_2018-09-13_13-45-17.png)\n",
    "\n",
    "\n",
    "\n"
   ]
  },
  {
   "attachments": {},
   "cell_type": "markdown",
   "metadata": {},
   "source": [
    "![title](img/Screenshot_from_2018-09-13_14-47-11.png)\n",
    "NOTE: http://elasticsearch-cheatsheet.jolicode.com/"
   ]
  },
  {
   "cell_type": "markdown",
   "metadata": {},
   "source": [
    "# With ElasticSearch recursively index a directory"
   ]
  },
  {
   "cell_type": "markdown",
   "metadata": {},
   "source": [
    "# Create a list of common words with ElasticSearch"
   ]
  },
  {
   "cell_type": "markdown",
   "metadata": {},
   "source": [
    "# From common words manually create a search pattern"
   ]
  },
  {
   "cell_type": "markdown",
   "metadata": {
    "slideshow": {
     "slide_type": "-"
    }
   },
   "source": [
    "# Create script that sends alert if a new documents matches the pattern"
   ]
  }
 ],
 "metadata": {
  "celltoolbar": "Slideshow",
  "kernelspec": {
   "display_name": "Python 3",
   "language": "python",
   "name": "python3"
  },
  "language_info": {
   "codemirror_mode": {
    "name": "ipython",
    "version": 3
   },
   "file_extension": ".py",
   "mimetype": "text/x-python",
   "name": "python",
   "nbconvert_exporter": "python",
   "pygments_lexer": "ipython3",
   "version": "3.6.5"
  }
 },
 "nbformat": 4,
 "nbformat_minor": 2
}
